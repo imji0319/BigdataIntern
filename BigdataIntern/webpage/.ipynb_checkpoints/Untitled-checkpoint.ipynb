{
 "cells": [
  {
   "cell_type": "code",
   "execution_count": 19,
   "metadata": {},
   "outputs": [],
   "source": [
    "import re\n",
    "import requests\n",
    "import lxml.html\n",
    "import time\n",
    "import pandas as pd\n",
    "import sqlite3\n",
    "import os"
   ]
  },
  {
   "cell_type": "code",
   "execution_count": 20,
   "metadata": {},
   "outputs": [],
   "source": [
    "def db_save(NEWS_LIST):\n",
    "    with sqlite3.connect(os.path.join('.','sqliteDB')) as con:\n",
    "        try:\n",
    "            NEWS_LIST.to_sql(name='NEWS_LIST', con=con, index = False)\n",
    "        \n",
    "        except Exception as e:\n",
    "            print(str(e))\n",
    "        \n",
    "        print(len(NEWS_LIST), '건 저장완료.')         "
   ]
  },
  {
   "cell_type": "code",
   "execution_count": 22,
   "metadata": {},
   "outputs": [],
   "source": [
    "def db_select():\n",
    "    with sqlite3.connect(os.path.join('.','sqliteDB')) as con:\n",
    "        \n",
    "        try:\n",
    "            query = 'SELECT * FROM NEWS_LIST'\n",
    "            NEWS_LIST = pd.read_sql(query, con=con)\n",
    "        \n",
    "        except Exception as e:\n",
    "            print(str(e))\n",
    "            \n",
    "        return NEWS_LIST"
   ]
  },
  {
   "cell_type": "code",
   "execution_count": 21,
   "metadata": {},
   "outputs": [],
   "source": [
    "response = requests.get('http://its.go.kr/aboutNtic/about_su.do')"
   ]
  },
  {
   "cell_type": "code",
   "execution_count": 4,
   "metadata": {},
   "outputs": [],
   "source": [
    "root = lxml.html.fromstring(response.content)"
   ]
  },
  {
   "cell_type": "code",
   "execution_count": 23,
   "metadata": {},
   "outputs": [
    {
     "name": "stdout",
     "output_type": "stream",
     "text": [
      "'list' object has no attribute 'to_sql'\n",
      "40 건 저장완료.\n"
     ]
    }
   ],
   "source": [
    "df_list= []\n",
    "for li in root.xpath('//*[@id=\"tab4\"]/table/tbody/tr'):\n",
    "    \n",
    "    노선 = li.xpath('td')[0].text\n",
    "    구간 = li.xpath('td')[1].text\n",
    "    연장 = li.xpath('td')[2].text\n",
    "    VDS = li.xpath('td')[3].text\n",
    "    AVI = li.xpath('td')[4].text\n",
    "    CCTV = li.xpath('td')[5].text\n",
    "    VMS = li.xpath('td')[6].text\n",
    "    WEBCAM= li.xpath('td')[7].text\n",
    "    DSRC= li.xpath('td')[8].text\n",
    "    RWIS = li.xpath('td')[9].text\n",
    "    \n",
    "    df = pd.DataFrame({'line' : [노선], 'term' : [구간], 'KM' : [연장],\n",
    "                      'VDS' : [VDS], 'AVI' :[AVI], 'CCTV' :[CCTV],\n",
    "                      'VMS':[VMS], 'WEBCAM' :[WEBCAM], 'DSRC':[DSRC], 'RWIS':[RWIS]})\n",
    "    \n",
    "    df_list.append(df)\n",
    "    \n",
    "if df_list:\n",
    "    db_save(df_list)"
   ]
  },
  {
   "cell_type": "code",
   "execution_count": 24,
   "metadata": {},
   "outputs": [
    {
     "data": {
      "text/html": [
       "<div>\n",
       "<style scoped>\n",
       "    .dataframe tbody tr th:only-of-type {\n",
       "        vertical-align: middle;\n",
       "    }\n",
       "\n",
       "    .dataframe tbody tr th {\n",
       "        vertical-align: top;\n",
       "    }\n",
       "\n",
       "    .dataframe thead th {\n",
       "        text-align: right;\n",
       "    }\n",
       "</style>\n",
       "<table border=\"1\" class=\"dataframe\">\n",
       "  <thead>\n",
       "    <tr style=\"text-align: right;\">\n",
       "      <th></th>\n",
       "      <th>URL</th>\n",
       "      <th>TITLE</th>\n",
       "      <th>ARTICLE</th>\n",
       "    </tr>\n",
       "  </thead>\n",
       "  <tbody>\n",
       "  </tbody>\n",
       "</table>\n",
       "</div>"
      ],
      "text/plain": [
       "Empty DataFrame\n",
       "Columns: [URL, TITLE, ARTICLE]\n",
       "Index: []"
      ]
     },
     "execution_count": 24,
     "metadata": {},
     "output_type": "execute_result"
    }
   ],
   "source": [
    "db_select()"
   ]
  },
  {
   "cell_type": "code",
   "execution_count": null,
   "metadata": {},
   "outputs": [],
   "source": []
  }
 ],
 "metadata": {
  "kernelspec": {
   "display_name": "Python 3",
   "language": "python",
   "name": "python3"
  },
  "language_info": {
   "codemirror_mode": {
    "name": "ipython",
    "version": 3
   },
   "file_extension": ".py",
   "mimetype": "text/x-python",
   "name": "python",
   "nbconvert_exporter": "python",
   "pygments_lexer": "ipython3",
   "version": "3.6.10"
  }
 },
 "nbformat": 4,
 "nbformat_minor": 4
}
