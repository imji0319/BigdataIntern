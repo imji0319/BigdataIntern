{
 "cells": [
  {
   "cell_type": "markdown",
   "metadata": {},
   "source": [
    "# Scraping Process  \n",
    "\n",
    "1. 웹 페이지 크롤링 : fetch(url)  \n",
    "    url 주소의 웹페이지를 추출하여 문자열 decoding 하여 html return \n",
    "2. 스크래핑 : scrape(html)   \n",
    "    html에서 정규표현식을 이용해 정보 추출\n",
    "3. 데이터 저장 : save(db_path, data)  \n",
    "    추출된 data를 db_path로 지정된 DB에 저장"
   ]
  },
  {
   "cell_type": "markdown",
   "metadata": {},
   "source": [
    "## 도서 목록 저장 프로세스 "
   ]
  },
  {
   "cell_type": "code",
   "execution_count": 6,
   "metadata": {},
   "outputs": [],
   "source": [
    "import re\n",
    "import sqlite3\n",
    "from urllib.request import urlopen\n",
    "from html import unescape\n",
    "import pandas as pd\n",
    "import os"
   ]
  },
  {
   "cell_type": "markdown",
   "metadata": {},
   "source": [
    "### 1. 웹 페이지 크롤링"
   ]
  },
  {
   "cell_type": "code",
   "execution_count": 7,
   "metadata": {},
   "outputs": [],
   "source": [
    "def fetch(url):\n",
    "    \n",
    "    f = urlopen(url)\n",
    "    \n",
    "    # info().get_content_charset() : Http 헤더를 기반으로 인코딩 형식 추출 \n",
    "    encoding = f.info().get_content_charset(failobj = 'utf-8')\n",
    "    \n",
    "    # 추출한 인코딩 형식을 기반으로 문자열 디코딩\n",
    "    html = f.read().decode(encoding)\n",
    "    \n",
    "    return html"
   ]
  },
  {
   "cell_type": "markdown",
   "metadata": {},
   "source": [
    "### 2. 스크래핑"
   ]
  },
  {
   "cell_type": "code",
   "execution_count": 13,
   "metadata": {},
   "outputs": [],
   "source": [
    "def scrape(html):\n",
    "    \n",
    "    # return 값 : 도서(dictionary) 리스트 -> dataframe\n",
    "    \n",
    "    books = []\n",
    "    \n",
    "    for partial_html in re.findall(r'<td class=\"left\"><a.*?</td>', html, re.DOTALL): #re.DOTALL : multi lines scan\n",
    "        \n",
    "        url = re.search(r'<a href=\"(.*)?\">', partial_html).group(1)\n",
    "        url = 'http://www.hanbit.co.kr' + url \n",
    "        \n",
    "        title = re.sub(r'<.*?>','', partial_html)\n",
    "        title = unescape(title) # html.unescape() : return a html string \n",
    "        \n",
    "        books.append(pd.DataFrame({'url':[url],\n",
    "                                  'title':[title]}))\n",
    "    \n",
    "    return pd.concat(books)"
   ]
  },
  {
   "cell_type": "markdown",
   "metadata": {},
   "source": [
    "### 3. 데이터 저장 "
   ]
  },
  {
   "cell_type": "code",
   "execution_count": 20,
   "metadata": {},
   "outputs": [],
   "source": [
    "def save(db_path, books):\n",
    "    \n",
    "    with sqlite3.connect(os.path.join('.', db_path)) as con : \n",
    "        \n",
    "        try:\n",
    "            books.to_sql(name = 'BOOKS_INFO', con=con, index = False, if_exists ='append')\n",
    "            #if_exists : {'fail', 'replace', 'append'} default : fail\n",
    "            \n",
    "        except Exception as e:\n",
    "            print(str(e))\n",
    "            \n",
    "    \n",
    "    query = 'SELECT * FROM BOOKS_INFO'\n",
    "    df = pd.read_sql(query, con = con)\n",
    "    \n",
    "    return df #db의 table -> dataframe\n",
    "            "
   ]
  },
  {
   "cell_type": "markdown",
   "metadata": {},
   "source": [
    "#### 도서 정보 추출 실습"
   ]
  },
  {
   "cell_type": "code",
   "execution_count": 11,
   "metadata": {},
   "outputs": [],
   "source": [
    "html = fetch('http://www.hanbit.co.kr/store/books/full_book_list.html')"
   ]
  },
  {
   "cell_type": "code",
   "execution_count": 14,
   "metadata": {},
   "outputs": [],
   "source": [
    "df = scrape(html)"
   ]
  },
  {
   "cell_type": "code",
   "execution_count": 15,
   "metadata": {},
   "outputs": [],
   "source": [
    "df.reset_index(drop = True, inplace = True)"
   ]
  },
  {
   "cell_type": "code",
   "execution_count": 18,
   "metadata": {},
   "outputs": [
    {
     "data": {
      "text/html": [
       "<div>\n",
       "<style scoped>\n",
       "    .dataframe tbody tr th:only-of-type {\n",
       "        vertical-align: middle;\n",
       "    }\n",
       "\n",
       "    .dataframe tbody tr th {\n",
       "        vertical-align: top;\n",
       "    }\n",
       "\n",
       "    .dataframe thead th {\n",
       "        text-align: right;\n",
       "    }\n",
       "</style>\n",
       "<table border=\"1\" class=\"dataframe\">\n",
       "  <thead>\n",
       "    <tr style=\"text-align: right;\">\n",
       "      <th></th>\n",
       "      <th>url</th>\n",
       "      <th>title</th>\n",
       "    </tr>\n",
       "  </thead>\n",
       "  <tbody>\n",
       "    <tr>\n",
       "      <th>0</th>\n",
       "      <td>http://www.hanbit.co.kr/store/books/look.php?p...</td>\n",
       "      <td>청소년 인문학 수업 - 1권</td>\n",
       "    </tr>\n",
       "    <tr>\n",
       "      <th>1</th>\n",
       "      <td>http://www.hanbit.co.kr/store/books/look.php?p...</td>\n",
       "      <td>청소년 인문학 수업 - 2권</td>\n",
       "    </tr>\n",
       "    <tr>\n",
       "      <th>2</th>\n",
       "      <td>http://www.hanbit.co.kr/store/books/look.php?p...</td>\n",
       "      <td>처음 시작하는 파이썬(2판)</td>\n",
       "    </tr>\n",
       "    <tr>\n",
       "      <th>3</th>\n",
       "      <td>http://www.hanbit.co.kr/store/books/look.php?p...</td>\n",
       "      <td>퀀트 전략을 위한 인공지능 트레이딩</td>\n",
       "    </tr>\n",
       "    <tr>\n",
       "      <th>4</th>\n",
       "      <td>http://www.hanbit.co.kr/store/books/look.php?p...</td>\n",
       "      <td>처음 시작하는 딥러닝</td>\n",
       "    </tr>\n",
       "  </tbody>\n",
       "</table>\n",
       "</div>"
      ],
      "text/plain": [
       "                                                 url                title\n",
       "0  http://www.hanbit.co.kr/store/books/look.php?p...      청소년 인문학 수업 - 1권\n",
       "1  http://www.hanbit.co.kr/store/books/look.php?p...      청소년 인문학 수업 - 2권\n",
       "2  http://www.hanbit.co.kr/store/books/look.php?p...      처음 시작하는 파이썬(2판)\n",
       "3  http://www.hanbit.co.kr/store/books/look.php?p...  퀀트 전략을 위한 인공지능 트레이딩\n",
       "4  http://www.hanbit.co.kr/store/books/look.php?p...          처음 시작하는 딥러닝"
      ]
     },
     "execution_count": 18,
     "metadata": {},
     "output_type": "execute_result"
    }
   ],
   "source": [
    "df.head()"
   ]
  },
  {
   "cell_type": "code",
   "execution_count": 21,
   "metadata": {},
   "outputs": [],
   "source": [
    "df2 = save('books.db', df)"
   ]
  },
  {
   "cell_type": "code",
   "execution_count": 23,
   "metadata": {},
   "outputs": [
    {
     "data": {
      "text/html": [
       "<div>\n",
       "<style scoped>\n",
       "    .dataframe tbody tr th:only-of-type {\n",
       "        vertical-align: middle;\n",
       "    }\n",
       "\n",
       "    .dataframe tbody tr th {\n",
       "        vertical-align: top;\n",
       "    }\n",
       "\n",
       "    .dataframe thead th {\n",
       "        text-align: right;\n",
       "    }\n",
       "</style>\n",
       "<table border=\"1\" class=\"dataframe\">\n",
       "  <thead>\n",
       "    <tr style=\"text-align: right;\">\n",
       "      <th></th>\n",
       "      <th>url</th>\n",
       "      <th>title</th>\n",
       "    </tr>\n",
       "  </thead>\n",
       "  <tbody>\n",
       "    <tr>\n",
       "      <th>0</th>\n",
       "      <td>http://www.hanbit.co.kr/store/books/look.php?p...</td>\n",
       "      <td>청소년 인문학 수업 - 1권</td>\n",
       "    </tr>\n",
       "    <tr>\n",
       "      <th>1</th>\n",
       "      <td>http://www.hanbit.co.kr/store/books/look.php?p...</td>\n",
       "      <td>청소년 인문학 수업 - 2권</td>\n",
       "    </tr>\n",
       "    <tr>\n",
       "      <th>2</th>\n",
       "      <td>http://www.hanbit.co.kr/store/books/look.php?p...</td>\n",
       "      <td>처음 시작하는 파이썬(2판)</td>\n",
       "    </tr>\n",
       "    <tr>\n",
       "      <th>3</th>\n",
       "      <td>http://www.hanbit.co.kr/store/books/look.php?p...</td>\n",
       "      <td>퀀트 전략을 위한 인공지능 트레이딩</td>\n",
       "    </tr>\n",
       "    <tr>\n",
       "      <th>4</th>\n",
       "      <td>http://www.hanbit.co.kr/store/books/look.php?p...</td>\n",
       "      <td>처음 시작하는 딥러닝</td>\n",
       "    </tr>\n",
       "  </tbody>\n",
       "</table>\n",
       "</div>"
      ],
      "text/plain": [
       "                                                 url                title\n",
       "0  http://www.hanbit.co.kr/store/books/look.php?p...      청소년 인문학 수업 - 1권\n",
       "1  http://www.hanbit.co.kr/store/books/look.php?p...      청소년 인문학 수업 - 2권\n",
       "2  http://www.hanbit.co.kr/store/books/look.php?p...      처음 시작하는 파이썬(2판)\n",
       "3  http://www.hanbit.co.kr/store/books/look.php?p...  퀀트 전략을 위한 인공지능 트레이딩\n",
       "4  http://www.hanbit.co.kr/store/books/look.php?p...          처음 시작하는 딥러닝"
      ]
     },
     "execution_count": 23,
     "metadata": {},
     "output_type": "execute_result"
    }
   ],
   "source": [
    "df2.head()"
   ]
  },
  {
   "cell_type": "markdown",
   "metadata": {},
   "source": [
    "저장된 도서 정보 DB 가져오기 "
   ]
  },
  {
   "cell_type": "code",
   "execution_count": 24,
   "metadata": {},
   "outputs": [
    {
     "name": "stdout",
     "output_type": "stream",
     "text": [
      "                                                 url                title\n",
      "0  http://www.hanbit.co.kr/store/books/look.php?p...      청소년 인문학 수업 - 1권\n",
      "1  http://www.hanbit.co.kr/store/books/look.php?p...      청소년 인문학 수업 - 2권\n",
      "2  http://www.hanbit.co.kr/store/books/look.php?p...      처음 시작하는 파이썬(2판)\n",
      "3  http://www.hanbit.co.kr/store/books/look.php?p...  퀀트 전략을 위한 인공지능 트레이딩\n",
      "4  http://www.hanbit.co.kr/store/books/look.php?p...          처음 시작하는 딥러닝\n"
     ]
    }
   ],
   "source": [
    "db_name = 'books.db'\n",
    "table_name = 'BOOKS_INFO'\n",
    "\n",
    "\n",
    "with sqlite3.connect(db_name) as con:\n",
    "    try :\n",
    "        query = 'SELECT * FROM {}'.format(table_name)\n",
    "        df = pd.read_sql(query, con = con)\n",
    "        \n",
    "    except Exception as e:\n",
    "        print(str(e))\n",
    "        \n",
    "    print(df.head())"
   ]
  },
  {
   "cell_type": "code",
   "execution_count": null,
   "metadata": {},
   "outputs": [],
   "source": []
  }
 ],
 "metadata": {
  "kernelspec": {
   "display_name": "Python 3",
   "language": "python",
   "name": "python3"
  },
  "language_info": {
   "codemirror_mode": {
    "name": "ipython",
    "version": 3
   },
   "file_extension": ".py",
   "mimetype": "text/x-python",
   "name": "python",
   "nbconvert_exporter": "python",
   "pygments_lexer": "ipython3",
   "version": "3.6.10"
  }
 },
 "nbformat": 4,
 "nbformat_minor": 4
}
