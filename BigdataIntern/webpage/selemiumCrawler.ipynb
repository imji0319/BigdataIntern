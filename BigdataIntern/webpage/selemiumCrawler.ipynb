{
 "cells": [
  {
   "cell_type": "code",
   "execution_count": 16,
   "metadata": {},
   "outputs": [],
   "source": [
    "from selenium.webdriver import Chrome\n",
    "import time\n",
    "import sqlite3\n",
    "from pandas.io import sql\n",
    "import os\n",
    "import pandas as pd"
   ]
  },
  {
   "cell_type": "code",
   "execution_count": 17,
   "metadata": {},
   "outputs": [],
   "source": [
    "from selenium import webdriver"
   ]
  },
  {
   "cell_type": "code",
   "execution_count": 10,
   "metadata": {},
   "outputs": [
    {
     "name": "stdout",
     "output_type": "stream",
     "text": [
      "Collecting webdriver-manager\n",
      "  Downloading webdriver_manager-3.2.2-py2.py3-none-any.whl (16 kB)\n",
      "Collecting crayons\n",
      "  Downloading crayons-0.4.0-py2.py3-none-any.whl (4.6 kB)\n",
      "Requirement already satisfied: requests in /Users/jihye/anaconda/lib/python3.6/site-packages (from webdriver-manager) (2.24.0)\n",
      "Collecting configparser\n",
      "  Downloading configparser-5.0.0-py3-none-any.whl (22 kB)\n",
      "Collecting colorama\n",
      "  Downloading colorama-0.4.3-py2.py3-none-any.whl (15 kB)\n",
      "Requirement already satisfied: certifi>=2017.4.17 in /Users/jihye/anaconda/lib/python3.6/site-packages (from requests->webdriver-manager) (2020.6.20)\n",
      "Requirement already satisfied: urllib3!=1.25.0,!=1.25.1,<1.26,>=1.21.1 in /Users/jihye/anaconda/lib/python3.6/site-packages (from requests->webdriver-manager) (1.25.10)\n",
      "Requirement already satisfied: idna<3,>=2.5 in /Users/jihye/anaconda/lib/python3.6/site-packages (from requests->webdriver-manager) (2.10)\n",
      "Requirement already satisfied: chardet<4,>=3.0.2 in /Users/jihye/anaconda/lib/python3.6/site-packages (from requests->webdriver-manager) (3.0.4)\n",
      "Installing collected packages: colorama, crayons, configparser, webdriver-manager\n",
      "Successfully installed colorama-0.4.3 configparser-5.0.0 crayons-0.4.0 webdriver-manager-3.2.2\n"
     ]
    }
   ],
   "source": [
    "#!pip install webdriver-manager"
   ]
  },
  {
   "cell_type": "code",
   "execution_count": 18,
   "metadata": {},
   "outputs": [
    {
     "name": "stderr",
     "output_type": "stream",
     "text": [
      "[WDM] - Current google-chrome version is 85.0.4183\n",
      "[WDM] - Get LATEST driver version for 85.0.4183\n",
      "[WDM] - Driver [/Users/jihye/.wdm/drivers/chromedriver/mac64/85.0.4183.87/chromedriver] found in cache\n"
     ]
    },
    {
     "name": "stdout",
     "output_type": "stream",
     "text": [
      " \n"
     ]
    }
   ],
   "source": [
    "from webdriver_manager.chrome import ChromeDriverManager\n",
    "\n",
    "driver = ChromeDriverManager().install()\n",
    "\n",
    "options = webdriver.ChromeOptions()\n",
    "options.add_argument(\"--start-maximized\"); \n",
    "\n",
    "browser = webdriver.Chrome(driver, options = options)"
   ]
  },
  {
   "cell_type": "code",
   "execution_count": 19,
   "metadata": {},
   "outputs": [],
   "source": [
    "browser.get('https://www.data.go.kr/')\n",
    "browser.implicitly_wait(5) "
   ]
  },
  {
   "cell_type": "code",
   "execution_count": 22,
   "metadata": {},
   "outputs": [],
   "source": [
    "browser.find_element_by_xpath('//*[@id=\"header\"]/div/div/div/div[2]/div/a[1]').click()\n",
    "browser.implicitly_wait(5)"
   ]
  },
  {
   "cell_type": "code",
   "execution_count": 26,
   "metadata": {},
   "outputs": [],
   "source": [
    "browser.find_element_by_xpath('//*[@id=\"mberId\"]').send_keys('*****')"
   ]
  },
  {
   "cell_type": "code",
   "execution_count": 27,
   "metadata": {},
   "outputs": [],
   "source": [
    "browser.find_element_by_xpath('//*[@id=\"pswrd\"]').send_keys('******')"
   ]
  },
  {
   "cell_type": "code",
   "execution_count": 28,
   "metadata": {},
   "outputs": [],
   "source": [
    "browser.find_element_by_xpath('//*[@id=\"loginVo\"]/div[2]/div[2]/div[2]/div/div[1]/button').click()\n",
    "browser.implicitly_wait(5)"
   ]
  },
  {
   "cell_type": "code",
   "execution_count": 29,
   "metadata": {},
   "outputs": [],
   "source": [
    "browser.find_element_by_xpath('//*[@id=\"M000400_pc\"]/a').click()"
   ]
  },
  {
   "cell_type": "code",
   "execution_count": 30,
   "metadata": {},
   "outputs": [],
   "source": [
    "browser.find_element_by_xpath('//*[@id=\"M000402_pc\"]/a').click()"
   ]
  },
  {
   "cell_type": "code",
   "execution_count": 31,
   "metadata": {},
   "outputs": [],
   "source": [
    "def db_save(ARTICLE_LIST):\n",
    "    \n",
    "    with sqlite3.connect(os.path.join('.','sqliteDB')) as con:\n",
    "        try:\n",
    "            ARTICLE_LIST.to_sql(name = 'ARTICLE_LIST', con=con, index = False, if_exists='append')\n",
    "            \n",
    "        except Exception as e:\n",
    "            print(str(e))\n",
    "            \n",
    "        print(len(ARTICLE_LIST), '건 저장완료')"
   ]
  },
  {
   "cell_type": "code",
   "execution_count": 33,
   "metadata": {},
   "outputs": [
    {
     "name": "stdout",
     "output_type": "stream",
     "text": [
      "10 건 저장완료\n"
     ]
    }
   ],
   "source": [
    "trs = browser.find_elements_by_xpath('//*[@id=\"searchVO\"]/div[5]/table/tbody/tr')\n",
    "df_list = []\n",
    "for tr in trs:\n",
    "    df = pd.DataFrame({\n",
    "            'NO': [tr.find_element_by_xpath('td[1]').text],\n",
    "            'TITLE': [tr.find_element_by_xpath('td[2]').text],\n",
    "            'IQRY': [tr.find_element_by_xpath('td[3]').text],\n",
    "            'REGDT': [tr.find_element_by_xpath('td[4]').text],\n",
    "            'CHGDT': [tr.find_element_by_xpath('td[5]').text],\n",
    "        })\n",
    "    df_list.append(df)\n",
    "    \n",
    "ARTICLE_LIST = pd.concat(df_list)\n",
    "db_save(ARTICLE_LIST)"
   ]
  },
  {
   "cell_type": "code",
   "execution_count": 34,
   "metadata": {},
   "outputs": [],
   "source": [
    "browser.find_element_by_xpath('//*[@id=\"searchVO\"]/div[5]/table/tbody/tr[1]/td[2]/a').click()\n",
    "browser.implicitly_wait(3)"
   ]
  },
  {
   "cell_type": "code",
   "execution_count": 37,
   "metadata": {},
   "outputs": [],
   "source": [
    "browser.find_element_by_xpath('//*[@id=\"recsroomDetail\"]/div[2]/div[4]/div/a').click()\n",
    "time.sleep(10)"
   ]
  },
  {
   "cell_type": "code",
   "execution_count": 38,
   "metadata": {},
   "outputs": [],
   "source": [
    "browser.quit()"
   ]
  },
  {
   "cell_type": "markdown",
   "metadata": {},
   "source": [
    "### HEADLESS 기능 이용"
   ]
  },
  {
   "cell_type": "code",
   "execution_count": 40,
   "metadata": {},
   "outputs": [
    {
     "name": "stderr",
     "output_type": "stream",
     "text": [
      "[WDM] - Current google-chrome version is 85.0.4183\n",
      "[WDM] - Get LATEST driver version for 85.0.4183\n",
      "[WDM] - Driver [/Users/jihye/.wdm/drivers/chromedriver/mac64/85.0.4183.87/chromedriver] found in cache\n"
     ]
    },
    {
     "name": "stdout",
     "output_type": "stream",
     "text": [
      " \n"
     ]
    }
   ],
   "source": [
    "options = webdriver.ChromeOptions()\n",
    "options.add_argument('--headless')\n",
    "options.add_argument('--disable-gpu')\n",
    "options.add_argument('--window-size=1280x1024')\n",
    "\n",
    "driver = ChromeDriverManager().install()\n",
    "\n",
    "\n",
    "browser = webdriver.Chrome(driver, options=options)"
   ]
  },
  {
   "cell_type": "code",
   "execution_count": null,
   "metadata": {},
   "outputs": [],
   "source": []
  }
 ],
 "metadata": {
  "kernelspec": {
   "display_name": "Python 3",
   "language": "python",
   "name": "python3"
  },
  "language_info": {
   "codemirror_mode": {
    "name": "ipython",
    "version": 3
   },
   "file_extension": ".py",
   "mimetype": "text/x-python",
   "name": "python",
   "nbconvert_exporter": "python",
   "pygments_lexer": "ipython3",
   "version": "3.6.10"
  }
 },
 "nbformat": 4,
 "nbformat_minor": 4
}
