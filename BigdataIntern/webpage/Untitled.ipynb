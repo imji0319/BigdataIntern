{
 "cells": [
  {
   "cell_type": "code",
   "execution_count": 19,
   "metadata": {},
   "outputs": [],
   "source": [
    "import re\n",
    "import requests\n",
    "import lxml.html\n",
    "import time\n",
    "import pandas as pd\n",
    "import sqlite3\n",
    "import os"
   ]
  },
  {
   "cell_type": "code",
   "execution_count": 31,
   "metadata": {},
   "outputs": [],
   "source": [
    "response = requests.get('http://its.go.kr/aboutNtic/about_su.do')"
   ]
  },
  {
   "cell_type": "code",
   "execution_count": 32,
   "metadata": {},
   "outputs": [],
   "source": [
    "root = lxml.html.fromstring(response.content)"
   ]
  },
  {
   "cell_type": "code",
   "execution_count": 36,
   "metadata": {},
   "outputs": [],
   "source": [
    "df_list= []\n",
    "for li in root.xpath('//*[@id=\"tab4\"]/table/tbody/tr'):\n",
    "    \n",
    "    노선 = li.xpath('td')[0].text\n",
    "    구간 = li.xpath('td')[1].text\n",
    "    연장 = li.xpath('td')[2].text\n",
    "    VDS = li.xpath('td')[3].text\n",
    "    AVI = li.xpath('td')[4].text\n",
    "    CCTV = li.xpath('td')[5].text\n",
    "    VMS = li.xpath('td')[6].text\n",
    "    WEBCAM= li.xpath('td')[7].text\n",
    "    DSRC= li.xpath('td')[8].text\n",
    "    RWIS = li.xpath('td')[9].text\n",
    "    \n",
    "    df = pd.DataFrame({'line' : [노선], 'term' : [구간], 'KM' : [연장],\n",
    "                      'VDS' : [VDS], 'AVI' :[AVI], 'CCTV' :[CCTV],\n",
    "                      'VMS':[VMS], 'WEBCAM' :[WEBCAM], 'DSRC':[DSRC], 'RWIS':[RWIS]})\n",
    "    \n",
    "    df_list.append(df)"
   ]
  },
  {
   "cell_type": "code",
   "execution_count": 37,
   "metadata": {},
   "outputs": [
    {
     "data": {
      "text/plain": [
       "[     line        term    KM VDS AVI CCTV VMS WEBCAM DSRC RWIS\n",
       " 0  국도 1호선  자유IC~장곡검문소  22.8  10   8   13   6      6    0    0,\n",
       "           line  term  KM VDS AVI CCTV VMS WEBCAM DSRC RWIS\n",
       " 0  능동지하차도~안성천교  29.5  10   0  10    8   8      6    0   42,\n",
       "      line   term    KM VDS AVI CCTV VMS WEBCAM DSRC RWIS\n",
       " 0  국도 3호선  장암-상패  26.9   8   0   13   8      8    6    0,\n",
       "      line  term  KM VDS AVI CCTV VMS WEBCAM DSRC RWIS\n",
       " 0  성남~장호원  47.3  25   0  22    5  10     14    0   76,\n",
       "          line  term KM VDS AVI CCTV VMS WEBCAM DSRC RWIS\n",
       " 0  이천응암리~진암IC  20.2  6   0   6    6   6      7    0   31,\n",
       "                line term KM VDS AVI CCTV VMS WEBCAM DSRC RWIS\n",
       " 0  광주쌍령리-동원대학(구3호선)    -  2   0   1    4   4      0    0   11,\n",
       "                line  term  KM VDS AVI CCTV VMS WEBCAM DSRC RWIS\n",
       " 0  동원대학-이천응암리(구3호선)  16.2  10   0   5    5   5     10    0   35,\n",
       "      line        term    KM VDS AVI CCTV VMS WEBCAM DSRC RWIS\n",
       " 0  국도 6호선  덕소IC~용두교차로  63.1  31  10   35  16     16    4    0,\n",
       "       line            term    KM VDS AVI CCTV VMS WEBCAM DSRC RWIS\n",
       " 0  국도 17호선  양지IC~경기도계(두교리)  33.1  13   0   11   6      6   14    0,\n",
       "       line          term   KM VDS AVI CCTV VMS WEBCAM DSRC RWIS\n",
       " 0  국도 37호선  당동IC~여우고개사거리  2.1   1   0    1   1      1    0    0,\n",
       "             line  term KM VDS AVI CCTV VMS WEBCAM DSRC RWIS\n",
       " 0  여우고개사거리~구읍교차로  20.6  0   0  12    4   4      0    0   20,\n",
       "     line   term KM VDS AVI CCTV VMS WEBCAM DSRC RWIS\n",
       " 0  적성~전곡  17.86  1   0   8    2   2      0    0   13,\n",
       "     line  term KM VDS AVI CCTV VMS WEBCAM DSRC RWIS\n",
       " 0  여주~양평  26.8  0   0  14    4   4      0    0   22,\n",
       "          line term KM VDS AVI CCTV VMS WEBCAM DSRC RWIS\n",
       " 0  여주IC~교리교차로  4.2  0   0   1    1   1      0    0    3,\n",
       "       line          term    KM VDS AVI CCTV VMS WEBCAM DSRC RWIS\n",
       " 0  국도 38호선  아산방조제~감곡IC입구  88.5  47   0   43  19     19   45    0,\n",
       "       line   term   KM VDS AVI CCTV VMS WEBCAM DSRC RWIS\n",
       " 0  국도 39호선  장흥~송추  8.1   5   2    3   2      2    0    0,\n",
       "            line  term  KM VDS AVI CCTV VMS WEBCAM DSRC RWIS\n",
       " 0  양촌IC입구~아산방조제  47.9  24   0  25   15  14     23    0  101,\n",
       "       line        term    KM VDS AVI CCTV VMS WEBCAM DSRC RWIS\n",
       " 0  국도 42호선  상하교차로~경기도계  61.1  22   0   35  16     16   29    0,\n",
       "       line      term   KM VDS AVI CCTV VMS WEBCAM DSRC RWIS\n",
       " 0  국도 43호선  내곡IC~의정부  6.1   2   0    3   1      1    0    0,\n",
       "         line  term  KM VDS AVI CCTV VMS WEBCAM DSRC RWIS\n",
       " 0  죽전사거리~엄미리  20.5  13   0  15    7   7     15    0   57,\n",
       "     line  term KM VDS AVI CCTV VMS WEBCAM DSRC RWIS\n",
       " 0  분천~신리  14.9  5   0  10    5   5      5    0   30,\n",
       "          line term KM VDS AVI CCTV VMS WEBCAM DSRC RWIS\n",
       " 0  왕림교차로~봉담IC    -  0   0   0    1   1      0    0    2,\n",
       "           line term KM VDS AVI CCTV VMS WEBCAM DSRC RWIS\n",
       " 0  발안사거리~왕림교차로  9.5  7   0   4    4   4      5    0   24,\n",
       "           line term KM VDS AVI CCTV VMS WEBCAM DSRC RWIS\n",
       " 0  향남교차로~발안사거리  3.4  3   0   2    2   2      0    0    9,\n",
       "     line  term KM VDS AVI CCTV VMS WEBCAM DSRC RWIS\n",
       " 0  팽성~청북  11.3  2   0   5    4   4      3    0   18,\n",
       "       line        term KM VDS AVI CCTV VMS WEBCAM DSRC RWIS\n",
       " 0  국도 44호선  용두교차로~경기도계  6   1   2    1   1      1    0    0,\n",
       "       line       term    KM VDS AVI CCTV VMS WEBCAM DSRC RWIS\n",
       " 0  국도 45호선  조안IC~금남IC  15.6   4   0    9   2      2    4    0,\n",
       "          line  term  KM VDS AVI CCTV VMS WEBCAM DSRC RWIS\n",
       " 0  고덕교차로~팔당대교  56.7  24   3  22   14  14     16    0   93,\n",
       "           line term KM VDS AVI CCTV VMS WEBCAM DSRC RWIS\n",
       " 0  운용교차로~신궁교차로  6.1  2   0   5    2   2      4    0   15,\n",
       "          line        term    KM VDS AVI CCTV VMS WEBCAM DSRC RWIS\n",
       " 0  국도 45/46호선  금남IC~가평오거리  23.7  14   6   17   9      9    0    0,\n",
       "       line       term    KM VDS AVI CCTV VMS WEBCAM DSRC RWIS\n",
       " 0  국도 46호선  진관IC~금남IC  22.7   5   0    9   2      2    6    0,\n",
       "       line    term   KM VDS AVI CCTV VMS WEBCAM DSRC RWIS\n",
       " 0  국도 47호선  퇴계원~진접  9.3   7   0    7   7      7    5    0,\n",
       "       line   term    KM VDS AVI CCTV VMS WEBCAM DSRC RWIS\n",
       " 0  국도 48호선  인화~강화  12.7   5   0    9   3      3    0    0,\n",
       "       line  term KM VDS AVI CCTV VMS WEBCAM DSRC RWIS\n",
       " 0  김포시이관구간  31.9  0   0  14    5   5      0    0   24,\n",
       "       line       term    KM VDS AVI CCTV VMS WEBCAM DSRC RWIS\n",
       " 0  국도 77호선  자유IC~고양시계  28.7  18   0   11   5      5    6    2,\n",
       "           line  term  KM VDS AVI CCTV VMS WEBCAM DSRC RWIS\n",
       " 0  서평택IC~멱우교차로  14.7  13   4   8    5   5      1    0   36,\n",
       "       line         term    KM VDS AVI CCTV VMS WEBCAM DSRC RWIS\n",
       " 0  국도 82호선  가재교차로~멱우교차로  12.9   7   4    3   4      4    0    0,\n",
       "           line term KM VDS AVI CCTV VMS WEBCAM DSRC RWIS\n",
       " 0  요당교차로~가재교차로  9.5  2   0   4    4   4      0    0   14,\n",
       "   line             term KM VDS AVI CCTV VMS WEBCAM DSRC RWIS\n",
       " 0   기타  지선, 지방도, 취약구간 등  -   0   0    7  12     12    0    0,\n",
       "   line   term   KM VDS  AVI CCTV  VMS WEBCAM DSRC   RWIS\n",
       " 0    계  852.5  350  39  423  227  231    228    2  1,500]"
      ]
     },
     "execution_count": 37,
     "metadata": {},
     "output_type": "execute_result"
    }
   ],
   "source": [
    "df_list"
   ]
  },
  {
   "cell_type": "code",
   "execution_count": null,
   "metadata": {},
   "outputs": [],
   "source": []
  }
 ],
 "metadata": {
  "kernelspec": {
   "display_name": "Python 3",
   "language": "python",
   "name": "python3"
  },
  "language_info": {
   "codemirror_mode": {
    "name": "ipython",
    "version": 3
   },
   "file_extension": ".py",
   "mimetype": "text/x-python",
   "name": "python",
   "nbconvert_exporter": "python",
   "pygments_lexer": "ipython3",
   "version": "3.6.10"
  }
 },
 "nbformat": 4,
 "nbformat_minor": 4
}
